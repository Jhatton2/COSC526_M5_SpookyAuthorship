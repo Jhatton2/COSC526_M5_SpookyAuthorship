{
  "cells": [
    {
      "cell_type": "markdown",
      "metadata": {
        "id": "view-in-github",
        "colab_type": "text"
      },
      "source": [
        "<a href=\"https://colab.research.google.com/github/ntherndon97/COSC526_M5_SpookyAuthorship/blob/main/M5.12_TeamAssignment.ipynb\" target=\"_parent\"><img src=\"https://colab.research.google.com/assets/colab-badge.svg\" alt=\"Open In Colab\"/></a>"
      ]
    },
    {
      "cell_type": "code",
      "source": [
        "!wget https://raw.githubusercontent.com/ntherndon97/COSC526_M5_SpookyAuthorship/5f5fbb075b6d1bd49d8664acfd7d7312f236e6d6/test.zip\n"
      ],
      "metadata": {
        "colab": {
          "base_uri": "https://localhost:8080/"
        },
        "id": "vc13T0JIDyA9",
        "outputId": "81634ce9-6631-4976-e7a7-9c2d81120b92"
      },
      "execution_count": 39,
      "outputs": [
        {
          "output_type": "stream",
          "name": "stdout",
          "text": [
            "--2024-10-16 02:18:09--  https://raw.githubusercontent.com/ntherndon97/COSC526_M5_SpookyAuthorship/5f5fbb075b6d1bd49d8664acfd7d7312f236e6d6/test.zip\n",
            "Resolving raw.githubusercontent.com (raw.githubusercontent.com)... 185.199.108.133, 185.199.109.133, 185.199.110.133, ...\n",
            "Connecting to raw.githubusercontent.com (raw.githubusercontent.com)|185.199.108.133|:443... connected.\n",
            "HTTP request sent, awaiting response... 200 OK\n",
            "Length: 551200 (538K) [application/zip]\n",
            "Saving to: ‘test.zip.1’\n",
            "\n",
            "test.zip.1          100%[===================>] 538.28K  --.-KB/s    in 0.05s   \n",
            "\n",
            "2024-10-16 02:18:09 (11.2 MB/s) - ‘test.zip.1’ saved [551200/551200]\n",
            "\n"
          ]
        }
      ]
    },
    {
      "cell_type": "code",
      "source": [
        "!wget https://raw.githubusercontent.com/ntherndon97/COSC526_M5_SpookyAuthorship/main/train.zip\n"
      ],
      "metadata": {
        "colab": {
          "base_uri": "https://localhost:8080/"
        },
        "id": "Jn60bZrvFA0A",
        "outputId": "ea967654-215b-455d-e2a0-e0be5f4505e3"
      },
      "execution_count": 40,
      "outputs": [
        {
          "output_type": "stream",
          "name": "stdout",
          "text": [
            "--2024-10-16 02:18:12--  https://raw.githubusercontent.com/ntherndon97/COSC526_M5_SpookyAuthorship/main/train.zip\n",
            "Resolving raw.githubusercontent.com (raw.githubusercontent.com)... 185.199.109.133, 185.199.108.133, 185.199.111.133, ...\n",
            "Connecting to raw.githubusercontent.com (raw.githubusercontent.com)|185.199.109.133|:443... connected.\n",
            "HTTP request sent, awaiting response... 200 OK\n",
            "Length: 1319237 (1.3M) [application/zip]\n",
            "Saving to: ‘train.zip.1’\n",
            "\n",
            "train.zip.1         100%[===================>]   1.26M  --.-KB/s    in 0.07s   \n",
            "\n",
            "2024-10-16 02:18:12 (18.8 MB/s) - ‘train.zip.1’ saved [1319237/1319237]\n",
            "\n"
          ]
        }
      ]
    },
    {
      "cell_type": "code",
      "source": [
        "!pwd\n"
      ],
      "metadata": {
        "colab": {
          "base_uri": "https://localhost:8080/"
        },
        "id": "mtqXpaqCEYAD",
        "outputId": "296f3736-6014-4dd7-a630-acb28115f701"
      },
      "execution_count": 41,
      "outputs": [
        {
          "output_type": "stream",
          "name": "stdout",
          "text": [
            "/content\n"
          ]
        }
      ]
    },
    {
      "cell_type": "code",
      "source": [
        "!ls\n",
        "\n"
      ],
      "metadata": {
        "colab": {
          "base_uri": "https://localhost:8080/"
        },
        "id": "HVT2l66MEbQh",
        "outputId": "936a249d-0bca-4e7a-980a-501dd9ab3493"
      },
      "execution_count": 42,
      "outputs": [
        {
          "output_type": "stream",
          "name": "stdout",
          "text": [
            "sample_data  test.csv  test.zip  test.zip.1  train.csv\ttrain.zip  train.zip.1\n"
          ]
        }
      ]
    },
    {
      "cell_type": "code",
      "source": [
        "import zipfile\n",
        "\n",
        "# Paths to the zip files\n",
        "test_zip_path = 'test.zip'      # Update this with the correct path if needed\n",
        "train_zip_path = 'train.zip'    # Update this with the correct path if needed\n",
        "\n",
        "# Unzip test.zip in the current directory\n",
        "with zipfile.ZipFile(test_zip_path, 'r') as zip_ref:\n",
        "    zip_ref.extractall()  # Extract to the current working directory\n",
        "\n",
        "# Unzip train.zip in the current directory\n",
        "with zipfile.ZipFile(train_zip_path, 'r') as zip_ref:\n",
        "    zip_ref.extractall()  # Extract to the current working directory\n",
        "\n",
        "print(\"Unzipping complete.\")\n"
      ],
      "metadata": {
        "colab": {
          "base_uri": "https://localhost:8080/"
        },
        "id": "x8De-RJtFojD",
        "outputId": "34098cc6-441c-47ff-a3ea-858600ce0cc2"
      },
      "execution_count": 43,
      "outputs": [
        {
          "output_type": "stream",
          "name": "stdout",
          "text": [
            "Unzipping complete.\n"
          ]
        }
      ]
    },
    {
      "cell_type": "code",
      "source": [
        "!ls"
      ],
      "metadata": {
        "colab": {
          "base_uri": "https://localhost:8080/"
        },
        "id": "8FxTNT2PFqhg",
        "outputId": "3f2c8517-2792-4f42-a881-155e92d5d6ce"
      },
      "execution_count": 44,
      "outputs": [
        {
          "output_type": "stream",
          "name": "stdout",
          "text": [
            "sample_data  test.csv  test.zip  test.zip.1  train.csv\ttrain.zip  train.zip.1\n"
          ]
        }
      ]
    },
    {
      "cell_type": "code",
      "source": [
        "!pip install pyspark"
      ],
      "metadata": {
        "colab": {
          "base_uri": "https://localhost:8080/"
        },
        "id": "2gmuHiihGo1p",
        "outputId": "5f7edbc3-3fbb-4812-f092-57171272d787"
      },
      "execution_count": 45,
      "outputs": [
        {
          "output_type": "stream",
          "name": "stdout",
          "text": [
            "Requirement already satisfied: pyspark in /usr/local/lib/python3.10/dist-packages (3.5.3)\n",
            "Requirement already satisfied: py4j==0.10.9.7 in /usr/local/lib/python3.10/dist-packages (from pyspark) (0.10.9.7)\n"
          ]
        }
      ]
    },
    {
      "cell_type": "code",
      "source": [
        "from pyspark.sql import SparkSession\n",
        "\n",
        "spark = SparkSession.builder \\\n",
        "    .appName(\"Spooky Author\") \\\n",
        "    .getOrCreate()\n",
        "\n",
        "csv_file_path = './test.csv'\n",
        "df = spark.read.csv(csv_file_path, header=True, inferSchema=True)\n",
        "df.show()"
      ],
      "metadata": {
        "colab": {
          "base_uri": "https://localhost:8080/"
        },
        "id": "GwlwBdECGmTk",
        "outputId": "d1bff1ff-bcdb-45e2-d865-aa43528cf52f"
      },
      "execution_count": 46,
      "outputs": [
        {
          "output_type": "stream",
          "name": "stdout",
          "text": [
            "+-------+--------------------+\n",
            "|     id|                text|\n",
            "+-------+--------------------+\n",
            "|id02310|Still, as I urged...|\n",
            "|id24541|If a fire wanted ...|\n",
            "|id00134|And when they had...|\n",
            "|id27757|While I was think...|\n",
            "|id04081|I am not sure to ...|\n",
            "|id27337|\"\"\"The thick and ...|\n",
            "|id24265|That which is not...|\n",
            "|id25917|I sought for repo...|\n",
            "|id04951|Upon the fourth d...|\n",
            "|id14549|\"\"\"The tone metap...|\n",
            "|id22505|These, the offspr...|\n",
            "|id24002|\"What kept him fr...|\n",
            "|id18982|\"Persuading the w...|\n",
            "|id15181|When I arose trem...|\n",
            "|id21888|And by the shores...|\n",
            "|id12035|Idris heard of he...|\n",
            "|id17991|I say this proudl...|\n",
            "|id10707|\"But let us glanc...|\n",
            "|id07101|\"\"\"What a place i...|\n",
            "|id00345|At his nod I took...|\n",
            "+-------+--------------------+\n",
            "only showing top 20 rows\n",
            "\n"
          ]
        }
      ]
    }
  ],
  "metadata": {
    "language_info": {
      "name": "python"
    },
    "colab": {
      "provenance": [],
      "include_colab_link": true
    },
    "kernelspec": {
      "name": "python3",
      "display_name": "Python 3"
    }
  },
  "nbformat": 4,
  "nbformat_minor": 0
}